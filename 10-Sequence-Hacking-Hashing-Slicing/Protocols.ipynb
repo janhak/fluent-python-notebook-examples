{
 "cells": [
  {
   "cell_type": "code",
   "execution_count": null,
   "metadata": {
    "collapsed": true
   },
   "outputs": [],
   "source": [
    "\"\"\"\n",
    "Protocol is an informal interface defined only in documentation and\n",
    "not in code. For example, the sequence protocol in Python entails just\n",
    "the __len__ and __getitem__ methods to be implemented. If your class\n",
    "implements it you can use it in place of anywhere where you would \n",
    "normally expect a sequence. Whether it is subclass of it or not is\n",
    "irrelevant all that matters is that it provides the necessary methods.\n",
    "\n",
    "So what makes a sequence. Something becomes one if it **behaves** like\n",
    "one, this is known as duck typing.\n",
    "\n",
    "For example to support iteration only __getitem__ is required.\n",
    "\"\"\""
   ]
  }
 ],
 "metadata": {
  "kernelspec": {
   "display_name": "Python 2",
   "language": "python",
   "name": "python2"
  },
  "language_info": {
   "codemirror_mode": {
    "name": "ipython",
    "version": 2.0
   },
   "file_extension": ".py",
   "mimetype": "text/x-python",
   "name": "python",
   "nbconvert_exporter": "python",
   "pygments_lexer": "ipython2",
   "version": "2.7.6"
  }
 },
 "nbformat": 4,
 "nbformat_minor": 0
}