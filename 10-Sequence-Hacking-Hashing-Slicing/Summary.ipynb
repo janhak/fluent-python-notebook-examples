{
 "cells": [
  {
   "cell_type": "code",
   "execution_count": null,
   "metadata": {
    "collapsed": true
   },
   "outputs": [],
   "source": [
    "\"\"\"\n",
    "For an object to behave as a sequence it is enough to implement \n",
    "__getitem__ and __len__ as it follows the sequence protocol.\n",
    "\n",
    "You can manipulate the object handling of attributes by __getattr__\n",
    "and __setattr__ methods. Normally if you implement the __getattr__ \n",
    "you typically need to implement __setattr__ as well to prevent\n",
    "inconsistent behaviour.\n",
    "\n",
    "The powerful reduce higher-order function is also known as fold,\n",
    "accumulate, aggregate, compress and inject.\n",
    "\n",
    "When implementing a class that emulates any built_in type, it is important\n",
    "that the emulation only be implemented to the degree that it makes \n",
    "sense for the object being modeled. For example, some sequences may\n",
    "work well with retrieval of individual elements, but extracting a slice\n",
    "may not make sense.\n",
    "\"\"\""
   ]
  }
 ],
 "metadata": {
  "kernelspec": {
   "display_name": "Python 2",
   "language": "python",
   "name": "python2"
  },
  "language_info": {
   "codemirror_mode": {
    "name": "ipython",
    "version": 2.0
   },
   "file_extension": ".py",
   "mimetype": "text/x-python",
   "name": "python",
   "nbconvert_exporter": "python",
   "pygments_lexer": "ipython2",
   "version": "2.7.6"
  }
 },
 "nbformat": 4,
 "nbformat_minor": 0
}