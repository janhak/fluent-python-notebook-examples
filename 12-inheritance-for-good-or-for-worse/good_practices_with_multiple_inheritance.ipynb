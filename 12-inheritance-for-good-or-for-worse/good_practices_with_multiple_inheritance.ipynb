{
 "cells": [
  {
   "cell_type": "markdown",
   "metadata": {},
   "source": [
    "## 1. Distinguish interface inheritance from implementation inheritance\n",
    "\n",
    "- Inheritance of interface: creates a sub-type, implying an \"is-a\" relationship\n",
    "\n",
    "- Inheritance of implementation:avoids code duplication by reuse.\n",
    "\n",
    "Inheritance for code reuse is an implementation detail, and it can often by replaced by composition and delegation. On the other hand, interface inheritance is the backbone of a framework.\n",
    "\n",
    "## 2. Make interfaces explicit with ABCs\n",
    "\n",
    "If a class is designed to define an interface, it should be an explicit ABC, subclass abc.ABC\n",
    "\n",
    "## 3. Use mixins for code reuse\n",
    "\n",
    "If a class is designed to provide method implementation for reuse by multiple unrelated subclasses, without implying an \"is-a\" relationship, it should be an explicit mixin class. Conceptually, a mixin does not define a new type, it merely bundles methods for reuse. Each mixin should provide a single specific behaviour, implementing few and very closely related methods.\n",
    "\n",
    "## 4. Make mixins explicit by naming\n",
    "\n",
    "Use `...Mixin` suffix\n",
    "\n",
    "## 5. An ABC may also be a mixin; the reverse is not true\n",
    "\n",
    "## 6. Don't subclass from more than one concrete class\n",
    "\n",
    "Concrete classes should have zero or at most one concrete superclass. In other words, all but one of the superclasses of a concrete class should be ABCs or mixins.\n",
    "\n",
    "## 7. Provide aggregate classes to users\n",
    "\n",
    "If some combination of ABCs or mixins is particularly useful to client code provide a class that brings them together in a sensible way.\n",
    "\n",
    "```\n",
    "class Widget(BaseWidget, Pack, Place, Grid):\n",
    "    \"\"\"Internal class.\n",
    "    \n",
    "    Base class for a widget which can be positioned \n",
    "    with the geometry managers Pack, Place and Grid.\"\"\"\n",
    "    pass\n",
    "```\n",
    "\n",
    "## 8. Favour object composition over class inheritance."
   ]
  }
 ],
 "metadata": {
  "kernelspec": {
   "display_name": "Python 3",
   "language": "python",
   "name": "python3"
  },
  "language_info": {
   "codemirror_mode": {
    "name": "ipython",
    "version": 3
   },
   "file_extension": ".py",
   "mimetype": "text/x-python",
   "name": "python",
   "nbconvert_exporter": "python",
   "pygments_lexer": "ipython3",
   "version": "3.6.0"
  }
 },
 "nbformat": 4,
 "nbformat_minor": 2
}
