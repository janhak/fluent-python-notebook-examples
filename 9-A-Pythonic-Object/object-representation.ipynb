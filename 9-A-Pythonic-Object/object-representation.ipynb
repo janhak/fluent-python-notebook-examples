{
 "cells": [
  {
   "cell_type": "code",
   "execution_count": null,
   "metadata": {
    "collapsed": true
   },
   "outputs": [],
   "source": [
    "\"\"\"\n",
    "Python has two ways of getting string representation from an object.\n",
    "- repr()\n",
    "  returns a string representing the object as the developer wants to\n",
    "  see it. To support you need to implement __repr__\n",
    "- str()\n",
    "  returns a string representing the object as user wants to see it.\n",
    "  Object needs to implement __str__\n",
    "\n",
    "Objects can have two additional special methods for representation:\n",
    "- __bytes__ it is called by bytes() to get the object represented as\n",
    "  byte sequence\n",
    "- __format__ it is used by format to extend its special formatting\n",
    "  codes to your object.\n",
    "\"\"\""
   ]
  },
  {
   "cell_type": "code",
   "execution_count": null,
   "metadata": {},
   "outputs": [],
   "source": [
    ""
   ]
  }
 ],
 "metadata": {
  "kernelspec": {
   "display_name": "Python 2",
   "language": "python",
   "name": "python2"
  },
  "language_info": {
   "codemirror_mode": {
    "name": "ipython",
    "version": 2.0
   },
   "file_extension": ".py",
   "mimetype": "text/x-python",
   "name": "python",
   "nbconvert_exporter": "python",
   "pygments_lexer": "ipython2",
   "version": "2.7.6"
  }
 },
 "nbformat": 4,
 "nbformat_minor": 0
}