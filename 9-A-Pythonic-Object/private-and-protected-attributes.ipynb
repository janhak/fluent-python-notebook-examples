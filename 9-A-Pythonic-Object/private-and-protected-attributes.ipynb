{
 "cells": [
  {
   "cell_type": "code",
   "execution_count": null,
   "metadata": {
    "collapsed": true
   },
   "outputs": [],
   "source": [
    "\"\"\"Private and protected attributes in Python\n",
    "\n",
    "There aren't truly private attributes in Python. However if you\n",
    "prefix a method name with a double underscore it will be stored in the \n",
    "class __dict__ prefixed with a leading underscore and the class name.\n",
    "Do in Dog class, __mood becomes _Dog_mood. It is called name mangling.\n",
    "\n",
    "Name mangling is about safety not security, it is designed to prevent\n",
    "accidental access. Anyone who knows how private names are mangled can\n",
    "read the private attributes and assigning values to them by writing:\n",
    "v1._Vector2d__x = 7\n",
    "\n",
    "Another option is to use _ underscore it has no special meaning\n",
    "but the convention is that you shouldn't use such attributes outside\n",
    "lof the class definition.\n",
    "\n",
    "If you place a single underscore in front of a top-level name in a \n",
    "module and subsequently import from that module the names with _ prefix\n",
    "won't be imported. You can still write from mymod import _private\n",
    "\"\"\""
   ]
  },
  {
   "cell_type": "code",
   "execution_count": null,
   "metadata": {},
   "outputs": [],
   "source": [
    "\"\"\"Saving space with __slots__\n",
    "By default Python stores attributes in a per-instance dict named __dict__\n",
    "Dictionaries have a significant memory overhead because of the underlying hash table\n",
    "used to provide fast access. If your class will have thousands of instances\n",
    "with few attributes, the __slots__ can save a lot of memory, by letting\n",
    "interpreter store the instance attributes in a tuple instead of dict.\n",
    "\n",
    "To define __slots__ you create a class attribute with that name\n",
    "ans assign in an iterable of str with identifiers for the instance\n",
    "attributes.\n",
    "\n",
    "class Vector2d:\n",
    "__slots__ = ('__x', '__y')\n",
    "\n",
    "By defining slots in the class you are telling the interpreter.\n",
    "These are all the instance attributes in this class.\n",
    "\n",
    "You can also add the __dict__ name to slots list, your instances will\n",
    "keep the attributes named in the __slots__ in per-instance tuple\n",
    "but will also support dynamically created attributes which will\n",
    "be stored in __dict__\n",
    "\n",
    "You may also want to keep __weakref__ attribute in slots. It is \n",
    "necessary for object to support weak references.\n",
    "\"\"\""
   ]
  },
  {
   "cell_type": "code",
   "execution_count": null,
   "metadata": {},
   "outputs": [],
   "source": [
    "\"\"\"\n",
    "Slots has some caveats:\n",
    "\n",
    "- You must remember to redeclare __slots__ in each subclass, since\n",
    "  the inherited attribute is ignored by the interpreter.\n",
    "- Instances will only be able to have the attributes listed in slots\n",
    "- Instances cannot be target of weak references unless you remember to include\n",
    "  weakref in slots\n",
    "\"\"\""
   ]
  },
  {
   "cell_type": "code",
   "execution_count": null,
   "metadata": {},
   "outputs": [],
   "source": [
    "\"\"\"\n",
    "Overriding class attributes\n",
    "\n",
    "Class attributes like the typecode in Vector2d class, can be used\n",
    "as default values for instance attributes. \n",
    "\n",
    "The __bytes__ method uses typecode but it is read as self.typecode\n",
    "since instances are created without a typecode attribute of their own\n",
    "self.typecode will get the Vector2d.typecode class attribute by \n",
    "default.\n",
    "\n",
    "However if you overwrite it instances like v1.typecode = 'f' \n",
    "you create an instance attribute that shadows the class attribute\n",
    "and will modify how the bytes method works on this instance.\n",
    "\n",
    "To be more explicit about this we could subclass like so:\n",
    "\n",
    "class ShortVector2d(Vector2d):\n",
    "    typecode = 'f'\n",
    "\n",
    "This also explains why you shouldn't hardcode the class_name attribute\n",
    "in Vector __repr__ but instead get it from type(self).__name__\n",
    "This is about the O open for extension in SOLID\"\"\"\n"
   ]
  }
 ],
 "metadata": {
  "kernelspec": {
   "display_name": "Python 2",
   "language": "python",
   "name": "python2"
  },
  "language_info": {
   "codemirror_mode": {
    "name": "ipython",
    "version": 2.0
   },
   "file_extension": ".py",
   "mimetype": "text/x-python",
   "name": "python",
   "nbconvert_exporter": "python",
   "pygments_lexer": "ipython2",
   "version": "2.7.6"
  }
 },
 "nbformat": 4,
 "nbformat_minor": 0
}