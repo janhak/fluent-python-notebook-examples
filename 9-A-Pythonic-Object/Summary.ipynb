{
 "cells": [
  {
   "cell_type": "code",
   "execution_count": null,
   "metadata": {
    "collapsed": true
   },
   "outputs": [],
   "source": [
    "\"\"\"\n",
    "Pythonic object should be as simple as requirements allow and not a\n",
    "parade of language features.\n",
    "\n",
    "Representation methods:\n",
    "- __repr__ - as developer would like to see it\n",
    "- __str___ - as user would like to see it\n",
    "- __format__ - allows implementation of custom formatting language\n",
    "- __bytes__ - specifies how to convert object to byte representation\n",
    "\n",
    "Methods for converting object to a number:\n",
    "- __abs__\n",
    "- __bool__\n",
    "- __hash__\n",
    "\n",
    "@classmethod handy for alternate constructors\n",
    "\"\"\""
   ]
  }
 ],
 "metadata": {
  "kernelspec": {
   "display_name": "Python 2",
   "language": "python",
   "name": "python2"
  },
  "language_info": {
   "codemirror_mode": {
    "name": "ipython",
    "version": 2.0
   },
   "file_extension": ".py",
   "mimetype": "text/x-python",
   "name": "python",
   "nbconvert_exporter": "python",
   "pygments_lexer": "ipython2",
   "version": "2.7.6"
  }
 },
 "nbformat": 4,
 "nbformat_minor": 0
}