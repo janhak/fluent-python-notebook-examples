{
 "cells": [
  {
   "cell_type": "code",
   "execution_count": 15,
   "metadata": {
    "collapsed": true
   },
   "outputs": [],
   "source": [
    "import time\n",
    "\n",
    "\n",
    "def clock(func):\n",
    "    \"\"\"A decorator that clock every invocation of the decorated \n",
    "    function and prints the elapsed time, the arguments passed\n",
    "    and the result of the call.\"\"\"\n",
    "    \n",
    "    def clocked(*args, **kwargs):\n",
    "        t0 = time.perf_counter()\n",
    "        result = func(*args, **kwargs)\n",
    "        elapsed = time.perf_counter() - t0\n",
    "        name = func.__name__\n",
    "        arg_str = ', '.join(repr(arg) for arg in args)\n",
    "        kwarg_str = ', '.join(f'{name!s}={value!r}' \n",
    "                              for name, value in kwargs.items())\n",
    "        print(f'[{elapsed:0.8f}s] {name}({arg_str + kwarg_str}) -> {result}')\n",
    "        return result\n",
    "    \n",
    "    return clocked"
   ]
  },
  {
   "cell_type": "code",
   "execution_count": 16,
   "metadata": {},
   "outputs": [],
   "source": [
    "@clock\n",
    "def snooze(seconds):\n",
    "    time.sleep(seconds)\n",
    "   \n",
    "    \n",
    "@clock\n",
    "def factorial(n):\n",
    "    return 1 if n < 2 else n * factorial(n-1)"
   ]
  },
  {
   "cell_type": "code",
   "execution_count": 13,
   "metadata": {},
   "outputs": [
    {
     "name": "stdout",
     "output_type": "stream",
     "text": [
      "[0.12315396] snooze(0.123) -> None\n"
     ]
    }
   ],
   "source": [
    "snooze(.123)"
   ]
  },
  {
   "cell_type": "code",
   "execution_count": 17,
   "metadata": {},
   "outputs": [
    {
     "name": "stdout",
     "output_type": "stream",
     "text": [
      "[0.00000390s] factorial(1) -> 1\n[0.00296080s] factorial(2) -> 2\n[0.00446945s] factorial(3) -> 6\n[0.00612749s] factorial(4) -> 24\n[0.00707355s] factorial(5) -> 120\n[0.00802831s] factorial(6) -> 720\n6! =  720\n"
     ]
    }
   ],
   "source": [
    "print('6! = ', factorial(6))"
   ]
  },
  {
   "cell_type": "code",
   "execution_count": null,
   "metadata": {},
   "outputs": [],
   "source": [
    "# Each time factorial is called clocked(n) gets executed.\n",
    "# This is the typical behaviour of a decorator: it replaces the decorated \n",
    "# function with a new function that accepts the same arguments and (usually)\n",
    "# returns whatever the decorated function was supposed to return,\n",
    "# while also doing some extra processing. "
   ]
  },
  {
   "cell_type": "code",
   "execution_count": null,
   "metadata": {},
   "outputs": [],
   "source": [
    "\"\"\"\n",
    "In the GOFD decorator is described as:\n",
    "\"Attach additional responsibilities to an object dynamically\"\n",
    "\"\"\""
   ]
  },
  {
   "cell_type": "code",
   "execution_count": 27,
   "metadata": {},
   "outputs": [],
   "source": [
    "import functools\n",
    "\n",
    "\n",
    "def clock(func):\n",
    "    \"\"\"Improved decorator preserving __name__ and __doc__\n",
    "    of the decorated function\"\"\"\n",
    "    def clocked(*args, **kwargs):\n",
    "        t0 = time.time()\n",
    "        result = func(*args, **kwargs)\n",
    "        elapsed = time.time() - t0\n",
    "        name = func.__name__\n",
    "        arg_str = ', '.join(repr(arg) for arg in args)\n",
    "        kw_pairs = (f'{name!s}={value!r}' \n",
    "                    for name, value in kwargs.items())\n",
    "        kw_str = ', '.join(kw_pairs)\n",
    "        print(f'[{elapsed:0.8f}s] {name}({arg_str + kw_str}) -> {result}')\n",
    "        return result\n",
    "    return clocked"
   ]
  },
  {
   "cell_type": "code",
   "execution_count": 29,
   "metadata": {},
   "outputs": [],
   "source": [
    "@clock\n",
    "def factorial(n):\n",
    "    return n if n < 2 else n * factorial(n -1)"
   ]
  },
  {
   "cell_type": "code",
   "execution_count": 31,
   "metadata": {},
   "outputs": [
    {
     "name": "stdout",
     "output_type": "stream",
     "text": [
      "[0.00000119s] factorial(1) -> 1\n[0.00063825s] factorial(2) -> 2\n[0.00073719s] factorial(3) -> 6\n[0.00079584s] factorial(4) -> 24\n[0.00092840s] factorial(5) -> 120\n[0.00103140s] factorial(n=6) -> 720\n6! =  720\n"
     ]
    }
   ],
   "source": [
    "print('6! = ', factorial(n=6))"
   ]
  },
  {
   "cell_type": "code",
   "execution_count": 32,
   "metadata": {},
   "outputs": [
    {
     "data": {
      "text/plain": [
       "'clocked'"
      ]
     },
     "execution_count": 32,
     "metadata": {},
     "output_type": "execute_result"
    }
   ],
   "source": [
    "factorial.__name__"
   ]
  },
  {
   "cell_type": "code",
   "execution_count": null,
   "metadata": {},
   "outputs": [],
   "source": [
    ""
   ]
  },
  {
   "cell_type": "code",
   "execution_count": null,
   "metadata": {},
   "outputs": [],
   "source": [
    ""
   ]
  }
 ],
 "metadata": {
  "kernelspec": {
   "display_name": "Python 2",
   "language": "python",
   "name": "python2"
  },
  "language_info": {
   "codemirror_mode": {
    "name": "ipython",
    "version": 2.0
   },
   "file_extension": ".py",
   "mimetype": "text/x-python",
   "name": "python",
   "nbconvert_exporter": "python",
   "pygments_lexer": "ipython2",
   "version": "2.7.6"
  }
 },
 "nbformat": 4,
 "nbformat_minor": 0
}