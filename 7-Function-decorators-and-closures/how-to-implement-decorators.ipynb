{
 "cells": [
  {
   "cell_type": "code",
   "execution_count": null,
   "metadata": {
    "collapsed": true
   },
   "outputs": [],
   "source": [
    "# Collection of ideas from Graham Dumpleton writing\n",
    "\"\"\"When implementing decorators you should be on the lookout for:\n",
    "- Preserving introspection for the wrapped function\n",
    "- Do not mess with how the Python Object model works\n",
    "\n",
    "Ideal wrappers are therefore transparent.\n",
    "\n",
    "Decorator syntax in Python is just a short hand way of being able \n",
    "to apply a wrapper around an existing function, while the definition\n",
    "of function is being set up.\n",
    "\n",
    "Monkey Patching achieves pretty much the same outcome, but is \n",
    "applied retrospectively from a different context after the original\n",
    "function was created.\"\"\""
   ]
  },
  {
   "cell_type": "code",
   "execution_count": null,
   "metadata": {},
   "outputs": [],
   "source": [
    "# General wrapper implemented with Class looks like this\n",
    "\n",
    "class function_wrapper:\n",
    "    def __init__(self, wrapped):\n",
    "        self.wrapped = wrapped\n",
    "        \n",
    "    def __call__(self, *args, **kwargs):\n",
    "        return self.wrapped(*args, **kwargs)\n",
    "\n",
    "@function_wrapper\n",
    "def function():\n",
    "    pass\n",
    "\n",
    "\"\"\"When decorated function gets invoked it is actually the __call__()\n",
    "method of the wrapper object which is invoked. This in turn calls, \n",
    "wrapped function.\n",
    "\n",
    "If you use normal function based decorator the nested function \n",
    "doesn't actually get passed explicitly.\"\"\"\n"
   ]
  },
  {
   "cell_type": "code",
   "execution_count": 2,
   "metadata": {},
   "outputs": [
    {
     "name": "stdout",
     "output_type": "stream",
     "text": [
      "_wrapper\n"
     ]
    }
   ],
   "source": [
    "# Introspecting a wrapper\n",
    "\n",
    "def function_wrapper(wrapped):\n",
    "    def _wrapper(*args, **kwargs):\n",
    "        return wrapped(*args, **kwargs)\n",
    "    return _wrapper\n",
    "\n",
    "@function_wrapper\n",
    "def function():\n",
    "    \"\"\"A demo function\"\"\"\n",
    "    pass\n",
    "\n",
    "print(function.__name__)"
   ]
  },
  {
   "cell_type": "code",
   "execution_count": null,
   "metadata": {},
   "outputs": [],
   "source": [
    "# This no longer works, implementing with class produces AttributeError\n",
    "# as it has no attribute __name__"
   ]
  },
  {
   "cell_type": "code",
   "execution_count": 4,
   "metadata": {},
   "outputs": [
    {
     "name": "stdout",
     "output_type": "stream",
     "text": [
      "function A demo function\n"
     ]
    }
   ],
   "source": [
    "# Of course we can copy it manually\n",
    "\n",
    "def function_wrapper(wrapped):\n",
    "    def _wrapper(*args, **kwargs):\n",
    "        return wrapped(*args, **kwargs)\n",
    "    _wrapper.__name__ = wrapped.__name__\n",
    "    _wrapper.__doc__ = wrapped.__doc__   \n",
    "    return _wrapper\n",
    "\n",
    "@function_wrapper\n",
    "def function():\n",
    "    \"\"\"A demo function\"\"\"\n",
    "    pass\n",
    "\n",
    "print(function.__name__, function.__doc__)"
   ]
  },
  {
   "cell_type": "code",
   "execution_count": 9,
   "metadata": {},
   "outputs": [],
   "source": [
    "\"\"\"\n",
    "This of course get laborious and more attributes need to be copied\n",
    "so stdlib provided functool.wraps decorator for that purpose to be\n",
    "used with functions and functool.update_wrapper function\n",
    "\"\"\"\n",
    "\n",
    "import functools\n",
    "\n",
    "class function_wrapper:\n",
    "    \n",
    "    def __init__(self, wrapped):\n",
    "        self.wrapped = wrapped\n",
    "        functools.update_wrapper(self, wrapped)\n",
    "        \n",
    "    def __call__(self, *args, **kwargs):\n",
    "        return self.wrapped(*args, **kwargs)\n",
    "\n",
    "# However these methods do not preserve the full arg specificatioin\n",
    "\n",
    "import inspect\n",
    "\n",
    "@function_wrapper\n",
    "def function(arg1, arg2='def'):\n",
    "    pass"
   ]
  },
  {
   "cell_type": "code",
   "execution_count": 10,
   "metadata": {},
   "outputs": [
    {
     "data": {
      "text/plain": [
       "FullArgSpec(args=['self'], varargs='args', varkw='kwargs', defaults=None, kwonlyargs=[], kwonlydefaults=None, annotations={})"
      ]
     },
     "execution_count": 10,
     "metadata": {},
     "output_type": "execute_result"
    }
   ],
   "source": [
    "inspect.getfullargspec(function)"
   ]
  },
  {
   "cell_type": "code",
   "execution_count": 11,
   "metadata": {},
   "outputs": [
    {
     "data": {
      "text/plain": [
       "<Signature (arg1, arg2='def')>"
      ]
     },
     "execution_count": 11,
     "metadata": {},
     "output_type": "execute_result"
    }
   ],
   "source": [
    "inspect.signature(function)"
   ]
  },
  {
   "cell_type": "code",
   "execution_count": 12,
   "metadata": {},
   "outputs": [
    {
     "data": {
      "text/plain": [
       "\"@function_wrapper\\ndef function(arg1, arg2='def'):\\n    pass\\n\""
      ]
     },
     "execution_count": 12,
     "metadata": {},
     "output_type": "execute_result"
    }
   ],
   "source": [
    "inspect.getsource(function)"
   ]
  },
  {
   "cell_type": "code",
   "execution_count": null,
   "metadata": {},
   "outputs": [],
   "source": [
    "# Functools.update_wrapper preserve only naive introspection"
   ]
  }
 ],
 "metadata": {
  "kernelspec": {
   "display_name": "Python 2",
   "language": "python",
   "name": "python2"
  },
  "language_info": {
   "codemirror_mode": {
    "name": "ipython",
    "version": 2.0
   },
   "file_extension": ".py",
   "mimetype": "text/x-python",
   "name": "python",
   "nbconvert_exporter": "python",
   "pygments_lexer": "ipython2",
   "version": "2.7.6"
  }
 },
 "nbformat": 4,
 "nbformat_minor": 0
}