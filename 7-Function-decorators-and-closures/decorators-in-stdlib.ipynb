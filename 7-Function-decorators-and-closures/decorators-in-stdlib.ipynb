{
 "cells": [
  {
   "cell_type": "code",
   "execution_count": null,
   "metadata": {
    "collapsed": true
   },
   "outputs": [],
   "source": [
    "\"\"\"\n",
    "Python has 3 built-in functions that are designed to decorate methods\n",
    "- property\n",
    "- classmethod\n",
    "- staticmethod\n",
    "\n",
    "From functools module 3 more are interesting:\n",
    "- wraps\n",
    "- lru_cache\n",
    "- singledispatch\n",
    "\"\"\""
   ]
  },
  {
   "cell_type": "code",
   "execution_count": null,
   "metadata": {},
   "outputs": [],
   "source": [
    "# Memoization with functools.lru_cache\n",
    "# Saves the results of previous invocations of an expensive function\n",
    "# LRU - stands for Least Recently Used\n",
    "# Growth of the cache is limited by discarding the entries that have\n",
    "# not been read for a while"
   ]
  },
  {
   "cell_type": "code",
   "execution_count": 5,
   "metadata": {},
   "outputs": [],
   "source": [
    "import time\n",
    "import functools\n",
    "\n",
    "\n",
    "def clock(func):\n",
    "    @functools.wraps(func)\n",
    "    def clocked(*args, **kwargs):\n",
    "        t0 = time.time()\n",
    "        result = func(*args, **kwargs)\n",
    "        elapsed = time.time() - t0\n",
    "        name = func.__name__\n",
    "        arg_lst = []\n",
    "        if args:\n",
    "            arg_lst.append(', '.join(repr(arg) for arg in args))\n",
    "        if kwargs:\n",
    "            pairs = ['%s=%r' % (k, w) for k, w in sorted(kwargs.items())]\n",
    "            arg_lst.append(', '.join(pairs))\n",
    "        arg_str = ', '.join(arg_lst)\n",
    "        print('[%0.8fs] %s(%s) -> %r ' % (elapsed, name, arg_str, result))\n",
    "        return result\n",
    "    return clocked"
   ]
  },
  {
   "cell_type": "code",
   "execution_count": 6,
   "metadata": {},
   "outputs": [],
   "source": [
    "@clock\n",
    "def fibonacci(n):\n",
    "    if n < 2:\n",
    "        return n\n",
    "    return fibonacci(n - 1) + fibonacci(n - 2)"
   ]
  },
  {
   "cell_type": "code",
   "execution_count": 7,
   "metadata": {},
   "outputs": [
    {
     "name": "stdout",
     "output_type": "stream",
     "text": [
      "[0.00000262s] fibonacci(1) -> 1 \n[0.00000525s] fibonacci(0) -> 0 \n[0.00157738s] fibonacci(2) -> 1 \n[0.00000763s] fibonacci(1) -> 1 \n[0.00755763s] fibonacci(3) -> 2 \n[0.00000358s] fibonacci(1) -> 1 \n[0.00005603s] fibonacci(0) -> 0 \n[0.00224757s] fibonacci(2) -> 1 \n[0.01188540s] fibonacci(4) -> 3 \n[0.00000358s] fibonacci(1) -> 1 \n[0.00000453s] fibonacci(0) -> 0 \n[0.00043416s] fibonacci(2) -> 1 \n[0.00000453s] fibonacci(1) -> 1 \n[0.00077438s] fibonacci(3) -> 2 \n[0.01379681s] fibonacci(5) -> 5 \n[0.00000334s] fibonacci(1) -> 1 \n[0.00000620s] fibonacci(0) -> 0 \n[0.00381136s] fibonacci(2) -> 1 \n[0.00000501s] fibonacci(1) -> 1 \n[0.00429845s] fibonacci(3) -> 2 \n[0.00000310s] fibonacci(1) -> 1 \n[0.00000381s] fibonacci(0) -> 0 \n[0.00033283s] fibonacci(2) -> 1 \n[0.00496268s] fibonacci(4) -> 3 \n[0.01912785s] fibonacci(6) -> 8 \n8\n"
     ]
    }
   ],
   "source": [
    "print(fibonacci(6))"
   ]
  },
  {
   "cell_type": "code",
   "execution_count": 8,
   "metadata": {},
   "outputs": [],
   "source": [
    "@functools.lru_cache()  # lru_cache is invoked as func because it accepts parameters\n",
    "@clock\n",
    "def fibonacci(n):\n",
    "    if n < 2:\n",
    "        return n\n",
    "    return fibonacci(n - 1) + fibonacci(n - 2)"
   ]
  },
  {
   "cell_type": "code",
   "execution_count": 9,
   "metadata": {},
   "outputs": [
    {
     "name": "stdout",
     "output_type": "stream",
     "text": [
      "[0.00000334s] fibonacci(1) -> 1 \n[0.00000548s] fibonacci(0) -> 0 \n[0.00126553s] fibonacci(2) -> 1 \n[0.00148106s] fibonacci(3) -> 2 \n[0.00169802s] fibonacci(4) -> 3 \n[0.00204825s] fibonacci(5) -> 5 \n[0.00236630s] fibonacci(6) -> 8 \n8\n"
     ]
    }
   ],
   "source": [
    "print(fibonacci(6))"
   ]
  },
  {
   "cell_type": "code",
   "execution_count": null,
   "metadata": {},
   "outputs": [],
   "source": [
    "# Besides making silly recursive algorithms viable lru shines in\n",
    "# web apps\n",
    "# It takes two arguments maxsize which is the size of cache\n",
    "# and should be a power of 2\n",
    "# and typed if set to true it distinguishes between int 1 and \n",
    "# float 1.0\n"
   ]
  },
  {
   "cell_type": "code",
   "execution_count": 10,
   "metadata": {},
   "outputs": [],
   "source": [
    "import html\n",
    "\n",
    "\n",
    "def htmlize(obj):\n",
    "    content = html.escape(repr(obj))\n",
    "    return f'<pre>{content}</pre>'"
   ]
  },
  {
   "cell_type": "code",
   "execution_count": null,
   "metadata": {},
   "outputs": [],
   "source": [
    "\"\"\"We would like it to behave differently depending on the \n",
    "type of the argument passed:\n",
    "    >>> htmlize({1, 2, 3})\n",
    "    '<pre>{1, 2, 3}</pre>'\n",
    "    >>> htmlize(abs)\n",
    "    '<pre>&lt;built-in function abs&gt;</pre>'\n",
    "    >>> htmlize('Heimlich & Co.\\n- a game')\n",
    "    '<p>Heimlich &amp; Co.<br>\\n- a game</p>'\n",
    "    >>> htmlize(42)\n",
    "    '<pre>42 (0x2a)</pre>'\n",
    "    >>> print(htmlize(['alpha', 66, {3, 2, 1}]))\n",
    "\n",
    "Common solution is to turn htmlize into a dispatch function\n",
    "with a chain of if/elif/elif calling specialized functions\n",
    "like htmlize_str. This isn't a good design it violates the\n",
    "O in SOLID. Users of your code can't easily extend it, dispatcher\n",
    "over time would grow really big and the coupling between specialized\n",
    "functions would b every tight.\n",
    "\n",
    "The functools.singledespatch decorator allows each module to\n",
    "contribute to overall solution, and lets you easily provide a \n",
    "specialized function even for classes that you can't edit. If\n",
    "you decorate a plain function with @singledispatch it becomes\n",
    "generic function: a group of functions to perform the same\n",
    "operation in different ways, depending on the type of the first \n",
    "argument. (If more arguments would to be used it would be called\n",
    " multiple-dispatch)\"\"\"\n"
   ]
  },
  {
   "cell_type": "code",
   "execution_count": 11,
   "metadata": {},
   "outputs": [],
   "source": [
    "from functools import singledispatch\n",
    "from collections import abc\n",
    "import numbers\n",
    "import html\n",
    "\n",
    "\n",
    "@singledispatch\n",
    "def htmlize(obj):\n",
    "    content = html.escape(repr(obj))\n",
    "    return f'<pre>{content}</pre>'\n",
    "\n",
    "\n",
    "@htmlize.register(str)\n",
    "def _(text):  # The name of the registered function is irrelevant\n",
    "    content = html.escape(text).replace('\\n', '<br>\\n')\n",
    "    return f'<pre>{content}</pre>'\n",
    "\n",
    "\n",
    "@htmlize.register(numbers.Integral)\n",
    "def _(n):\n",
    "    return f'<pre>{n} (0x{n:x})</pre>'\n",
    "\n",
    "\n",
    "@htmlize.register(tuple)\n",
    "@htmlize.register(abc.MutableSequence)\n",
    "def _(seq):\n",
    "    inner = '</li>\\n<li>'.join(htmlize(item) for item in seq)\n",
    "    return f'<ul>\\n<li>{inner}</li>\\n</ul>'"
   ]
  },
  {
   "cell_type": "code",
   "execution_count": null,
   "metadata": {},
   "outputs": [],
   "source": [
    "# When possible prefer abstract classes instead of concrete\n",
    "# implementations like int or list. For example python \n",
    "# extensions provide alternatives to the int type with fixed bit\n",
    "# lengths as subclasses of number.Integral"
   ]
  },
  {
   "cell_type": "code",
   "execution_count": null,
   "metadata": {},
   "outputs": [],
   "source": [
    "# You can stack decorators which is the same as:\n",
    "f = d1(d2(f))\n",
    "\n",
    "@d1\n",
    "@d2\n",
    "def f():\n",
    "    pass"
   ]
  }
 ],
 "metadata": {
  "kernelspec": {
   "display_name": "Python 2",
   "language": "python",
   "name": "python2"
  },
  "language_info": {
   "codemirror_mode": {
    "name": "ipython",
    "version": 2.0
   },
   "file_extension": ".py",
   "mimetype": "text/x-python",
   "name": "python",
   "nbconvert_exporter": "python",
   "pygments_lexer": "ipython2",
   "version": "2.7.6"
  }
 },
 "nbformat": 4,
 "nbformat_minor": 0
}