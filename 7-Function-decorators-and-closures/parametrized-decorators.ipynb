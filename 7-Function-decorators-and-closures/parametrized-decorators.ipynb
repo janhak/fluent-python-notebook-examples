{
 "cells": [
  {
   "cell_type": "code",
   "execution_count": null,
   "metadata": {
    "collapsed": true
   },
   "outputs": [],
   "source": [
    "\"\"\"\n",
    "Decorators that accept parameters are parametrized decorators.\n",
    "When parsing a decorator Python takes the decorated function\n",
    "and passes it as the first argument to the decorator function.\n",
    "So how do you make a decorator accept other arguments?\n",
    "You must make a decorator factory function that accepts some\n",
    "arguments and return a decorator which in turn will be applied\n",
    "to the function to be decorated.\n",
    "\"\"\""
   ]
  },
  {
   "cell_type": "code",
   "execution_count": 2,
   "metadata": {},
   "outputs": [
    {
     "name": "stdout",
     "output_type": "stream",
     "text": [
      "running register(<function f1 at 0x7f6298681620>)\nrunning main()\nregistry -> [<function f1 at 0x7f6298681620>]\nrunning f1()\n"
     ]
    }
   ],
   "source": [
    "registry = []\n",
    "\n",
    "\n",
    "def register(func):\n",
    "    print('running register(%s)' % func)\n",
    "    registry.append(func)\n",
    "    return func\n",
    "\n",
    "\n",
    "@register\n",
    "def f1():\n",
    "    print('running f1()')\n",
    "    \n",
    "print('running main()')\n",
    "print('registry ->', registry)\n",
    "f1()"
   ]
  },
  {
   "cell_type": "code",
   "execution_count": null,
   "metadata": {},
   "outputs": [],
   "source": [
    "# Will parametrize it accepting optional active parameter\n",
    "# Which if set to false will skip registering the decorated functions"
   ]
  },
  {
   "cell_type": "code",
   "execution_count": 5,
   "metadata": {},
   "outputs": [],
   "source": [
    "registry = set()\n",
    "\n",
    "\n",
    "def register(active=True):\n",
    "    def decorate(func):\n",
    "        print(f'Running register(active={active}) -> decorate({func})')\n",
    "        if active:\n",
    "            registry.add(func)\n",
    "        else:\n",
    "            registry.discard(func)\n",
    "        return func   # this is decorator so must return a function\n",
    "    return decorate  # a decorator factory must return a decorator"
   ]
  },
  {
   "cell_type": "code",
   "execution_count": 6,
   "metadata": {},
   "outputs": [
    {
     "name": "stdout",
     "output_type": "stream",
     "text": [
      "Running register(active=False) -> decorate(<function f1 at 0x7f629860fbf8>)\nRunning register(active=True) -> decorate(<function f2 at 0x7f629860fb70>)\n"
     ]
    }
   ],
   "source": [
    "@register(active=False)\n",
    "def f1():\n",
    "    print('running f1()')\n",
    "\n",
    "\n",
    "@register()\n",
    "def f2():\n",
    "    print('running f2()')\n",
    "\n",
    "\n",
    "def f3():\n",
    "    pass"
   ]
  },
  {
   "cell_type": "code",
   "execution_count": 7,
   "metadata": {},
   "outputs": [
    {
     "data": {
      "text/plain": [
       "{<function __main__.f2>}"
      ]
     },
     "execution_count": 7,
     "metadata": {},
     "output_type": "execute_result"
    }
   ],
   "source": [
    "registry"
   ]
  },
  {
   "cell_type": "code",
   "execution_count": 8,
   "metadata": {},
   "outputs": [
    {
     "name": "stdout",
     "output_type": "stream",
     "text": [
      "running f2()\n"
     ]
    }
   ],
   "source": [
    "f2()"
   ]
  },
  {
   "cell_type": "code",
   "execution_count": 9,
   "metadata": {},
   "outputs": [
    {
     "name": "stdout",
     "output_type": "stream",
     "text": [
      "Running register(active=True) -> decorate(<function f3 at 0x7f6298681620>)\n"
     ]
    },
    {
     "data": {
      "text/plain": [
       "<function __main__.f3>"
      ]
     },
     "execution_count": 9,
     "metadata": {},
     "output_type": "execute_result"
    }
   ],
   "source": [
    "register()(f3)"
   ]
  },
  {
   "cell_type": "code",
   "execution_count": 10,
   "metadata": {},
   "outputs": [
    {
     "data": {
      "text/plain": [
       "{<function __main__.f3>, <function __main__.f2>}"
      ]
     },
     "execution_count": 10,
     "metadata": {},
     "output_type": "execute_result"
    }
   ],
   "source": [
    "registry"
   ]
  },
  {
   "cell_type": "code",
   "execution_count": 11,
   "metadata": {},
   "outputs": [
    {
     "name": "stdout",
     "output_type": "stream",
     "text": [
      "Running register(active=False) -> decorate(<function f2 at 0x7f629860fb70>)\n"
     ]
    },
    {
     "data": {
      "text/plain": [
       "<function __main__.f2>"
      ]
     },
     "execution_count": 11,
     "metadata": {},
     "output_type": "execute_result"
    }
   ],
   "source": [
    "register(active=False)(f2)"
   ]
  },
  {
   "cell_type": "code",
   "execution_count": 13,
   "metadata": {},
   "outputs": [
    {
     "data": {
      "text/plain": [
       "{<function __main__.f3>}"
      ]
     },
     "execution_count": 13,
     "metadata": {},
     "output_type": "execute_result"
    }
   ],
   "source": [
    "registry"
   ]
  },
  {
   "cell_type": "code",
   "execution_count": 22,
   "metadata": {},
   "outputs": [],
   "source": [
    "\"\"\"This was a fairly simple example. As normally parametrized\n",
    "decorators require yet another level of nesting. Will now \n",
    "change the clock decorator so user can pass in format string\n",
    "to control the output.\"\"\"\n",
    "import time\n",
    "\n",
    "DEFAULT_FMT = '[{elapsed:0.8f}s] {name}({args}) -> {result}'\n",
    "\n",
    "\n",
    "def clock(fmt=DEFAULT_FMT):\n",
    "    def decorate(func):\n",
    "        def clocked(*_args, **_kwargs):\n",
    "            t0 = time.time()\n",
    "            _result = func(*_args, **_kwargs)\n",
    "            elapsed = time.time() - t0\n",
    "            name = func.__name__\n",
    "            result = _result\n",
    "            args = ', '.join(repr(arg) for arg in _args)\n",
    "            kwargs = ', '.join(f'{name}={value!r}' \n",
    "                               for name, value in _kwargs.items())\n",
    "            print(fmt.format(**locals()))  # Wow we use locals dict!\n",
    "            return _result\n",
    "        return clocked\n",
    "    return decorate\n",
    "\n",
    "\n",
    "@clock()\n",
    "def snooze(seconds):\n",
    "    time.sleep(seconds)"
   ]
  },
  {
   "cell_type": "code",
   "execution_count": 23,
   "metadata": {},
   "outputs": [
    {
     "name": "stdout",
     "output_type": "stream",
     "text": [
      "[0.12329626s] snooze(0.123) -> None\n[0.12371731s] snooze(0.123) -> None\n"
     ]
    },
    {
     "name": "stdout",
     "output_type": "stream",
     "text": [
      "[0.12317824s] snooze(0.123) -> None\n"
     ]
    }
   ],
   "source": [
    "for i in range(3):\n",
    "    snooze(.123)"
   ]
  },
  {
   "cell_type": "code",
   "execution_count": 24,
   "metadata": {},
   "outputs": [
    {
     "name": "stdout",
     "output_type": "stream",
     "text": [
      "snooze: 0.12317609786987305s\nsnooze: 0.12317633628845215s\n"
     ]
    },
    {
     "name": "stdout",
     "output_type": "stream",
     "text": [
      "snooze: 0.1232140064239502s\n"
     ]
    }
   ],
   "source": [
    "@clock('{name}: {elapsed}s')\n",
    "def snooze(seconds):\n",
    "    time.sleep(seconds)\n",
    "\n",
    "for i in range(3):\n",
    "    snooze(0.123)"
   ]
  },
  {
   "cell_type": "code",
   "execution_count": 25,
   "metadata": {},
   "outputs": [
    {
     "name": "stdout",
     "output_type": "stream",
     "text": [
      "snooze(0.123) dt=0.123s\nsnooze(0.123) dt=0.123s\n"
     ]
    },
    {
     "name": "stdout",
     "output_type": "stream",
     "text": [
      "snooze(0.123) dt=0.123s\n"
     ]
    }
   ],
   "source": [
    "@clock('{name}({args}) dt={elapsed:0.3f}s')\n",
    "def snooze(seconds):\n",
    "    time.sleep(seconds)\n",
    "\n",
    "for i in range(3):\n",
    "    snooze(0.123)"
   ]
  },
  {
   "cell_type": "code",
   "execution_count": 34,
   "metadata": {},
   "outputs": [],
   "source": [
    "# Non-trivial decorators are better implemented as classes\n",
    "# The clock above would become\n",
    "\n",
    "\n",
    "class clock:\n",
    "    def __init__(self, fmt=DEFAULT_FMT):\n",
    "        self.fmt = fmt\n",
    "    \n",
    "    def __call__(self, func):\n",
    "        def clocked(*_args, **_kwargs):\n",
    "            t0 = time.time()\n",
    "            _result = func(*_args, **_kwargs)\n",
    "            elapsed = time.time() - t0\n",
    "            name = func.__name__\n",
    "            result = _result\n",
    "            args = ', '.join(repr(arg) for arg in _args)\n",
    "            kwargs = ', '.join(f'{name}={value!r}' \n",
    "                               for name, value in _kwargs.items())\n",
    "            print(self.fmt.format(**locals()))  # Wow we use locals dict!\n",
    "            return _result\n",
    "        return clocked"
   ]
  },
  {
   "cell_type": "code",
   "execution_count": 35,
   "metadata": {},
   "outputs": [
    {
     "name": "stdout",
     "output_type": "stream",
     "text": [
      "snooze____time_elapsed____:0.12\nsnooze____time_elapsed____:0.12\n"
     ]
    },
    {
     "name": "stdout",
     "output_type": "stream",
     "text": [
      "snooze____time_elapsed____:0.12\n"
     ]
    }
   ],
   "source": [
    "@clock('{name}____time_elapsed____:{elapsed:0.2f}')\n",
    "def snooze(seconds):\n",
    "    time.sleep(seconds)\n",
    "\n",
    "for i in range(3):\n",
    "    snooze(0.123)"
   ]
  },
  {
   "cell_type": "code",
   "execution_count": 36,
   "metadata": {},
   "outputs": [],
   "source": [
    "# Funnily this is a wrong way to implement decorator factory\n",
    "# using classes see Graham Dumpleton blog on decorators"
   ]
  },
  {
   "cell_type": "code",
   "execution_count": null,
   "metadata": {},
   "outputs": [],
   "source": [
    "\"\"\"\n",
    "To sum up to unerstand how decorators work you must be able to:\n",
    "- Distinguish between import time and run time\n",
    "- understand variable scoping, closures and nonlocal declaration\n",
    "\"\"\""
   ]
  }
 ],
 "metadata": {
  "kernelspec": {
   "display_name": "Python 2",
   "language": "python",
   "name": "python2"
  },
  "language_info": {
   "codemirror_mode": {
    "name": "ipython",
    "version": 2.0
   },
   "file_extension": ".py",
   "mimetype": "text/x-python",
   "name": "python",
   "nbconvert_exporter": "python",
   "pygments_lexer": "ipython2",
   "version": "2.7.6"
  }
 },
 "nbformat": 4,
 "nbformat_minor": 0
}