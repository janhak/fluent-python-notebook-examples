{
 "cells": [
  {
   "cell_type": "code",
   "execution_count": 1,
   "metadata": {
    "collapsed": false,
    "deletable": true,
    "editable": true
   },
   "outputs": [
    {
     "data": {
      "text/plain": [
       "True"
      ]
     },
     "execution_count": 1,
     "metadata": {},
     "output_type": "execute_result"
    }
   ],
   "source": [
    "# There is a number of ways to build a new dictionary\n",
    "\n",
    "a = dict(one=1, two=2, three=3)\n",
    "b = {'one': 1, 'two': 2, 'three': 3}\n",
    "c = dict(zip(['one', 'two', 'three'], [1, 2, 3]))\n",
    "d = dict([('one', 1), ('two', 2), ('three', 3)])\n",
    "e = dict({'three': 3, 'two': 2, 'one':1})\n",
    "a == b == c == d == e"
   ]
  },
  {
   "cell_type": "code",
   "execution_count": 2,
   "metadata": {
    "collapsed": false,
    "deletable": true,
    "editable": true
   },
   "outputs": [
    {
     "data": {
      "text/plain": [
       "{'Brazil': 55, 'China': 86, 'India': 91, 'Indonesia': 62}"
      ]
     },
     "execution_count": 2,
     "metadata": {},
     "output_type": "execute_result"
    }
   ],
   "source": [
    "# Similar to lists and tuples there are dict comprehensions\n",
    "DIAL_CODES = [\n",
    "    (86, 'China'),\n",
    "    (91, 'India'),\n",
    "    (62, 'Indonesia'),\n",
    "    (55, 'Brazil'),\n",
    "]\n",
    "country_code = {country: code for code, country in DIAL_CODES}\n",
    "country_code"
   ]
  },
  {
   "cell_type": "code",
   "execution_count": 3,
   "metadata": {
    "collapsed": false,
    "deletable": true,
    "editable": true
   },
   "outputs": [
    {
     "name": "stdout",
     "output_type": "stream",
     "text": [
      "a [(17, 48), (18, 53)]\n",
      "Although [(9, 1), (14, 1), (16, 1)]\n",
      "ambiguity [(12, 16)]\n",
      "and [(13, 23)]\n",
      "are [(19, 12)]\n",
      "aren [(8, 15)]\n",
      "at [(14, 38)]\n",
      "bad [(17, 50)]\n",
      "be [(13, 14), (14, 27), (18, 50)]\n",
      "beats [(9, 23)]\n",
      "Beautiful [(1, 1)]\n",
      "better [(1, 14), (2, 13), (3, 11), (4, 12), (5, 9), (6, 11), (15, 8), (16, 25)]\n",
      "break [(8, 40)]\n",
      "cases [(8, 9)]\n",
      "complex [(3, 23)]\n",
      "Complex [(4, 1)]\n",
      "complicated [(4, 24)]\n",
      "counts [(7, 13)]\n",
      "dense [(6, 23)]\n",
      "do [(13, 64), (19, 48)]\n",
      "Dutch [(14, 61)]\n",
      "easy [(18, 26)]\n",
      "enough [(8, 30)]\n",
      "Errors [(10, 1)]\n",
      "explain [(17, 34), (18, 34)]\n",
      "Explicit [(2, 1)]\n",
      "explicitly [(11, 8)]\n",
      "face [(12, 8)]\n",
      "first [(14, 41)]\n",
      "Flat [(5, 1)]\n",
      "good [(18, 55)]\n",
      "great [(19, 28)]\n",
      "guess [(12, 52)]\n",
      "hard [(17, 26)]\n",
      "honking [(19, 20)]\n",
      "idea [(17, 54), (18, 60), (19, 34)]\n",
      "If [(17, 1), (18, 1)]\n",
      "implementation [(17, 8), (18, 8)]\n",
      "implicit [(2, 25)]\n",
      "In [(12, 1)]\n",
      "is [(1, 11), (2, 10), (3, 8), (4, 9), (5, 6), (6, 8), (15, 5), (16, 16), (17, 23), (18, 23)]\n",
      "it [(13, 67), (17, 43), (18, 43)]\n",
      "let [(19, 42)]\n",
      "may [(14, 19), (18, 46)]\n",
      "more [(19, 51)]\n",
      "Namespaces [(19, 1)]\n",
      "nested [(5, 21)]\n",
      "never [(10, 15), (15, 20), (16, 10)]\n",
      "not [(14, 23)]\n",
      "Now [(15, 1)]\n",
      "now [(16, 45)]\n",
      "obvious [(13, 49), (14, 30)]\n",
      "of [(12, 13), (19, 56)]\n",
      "often [(16, 19)]\n",
      "one [(13, 17), (13, 43), (19, 16)]\n",
      "only [(13, 38)]\n",
      "pass [(10, 21)]\n",
      "practicality [(9, 10)]\n",
      "preferably [(13, 27)]\n",
      "purity [(9, 29)]\n",
      "re [(14, 58)]\n",
      "Readability [(7, 1)]\n",
      "refuse [(12, 27)]\n",
      "right [(16, 38)]\n",
      "rules [(8, 50)]\n",
      "s [(17, 46), (19, 46)]\n",
      "should [(10, 8), (13, 7)]\n",
      "silenced [(11, 19)]\n",
      "silently [(10, 26)]\n",
      "Simple [(3, 1)]\n",
      "Sparse [(6, 1)]\n",
      "Special [(8, 1)]\n",
      "special [(8, 22)]\n",
      "t [(8, 20)]\n",
      "temptation [(12, 38)]\n",
      "than [(1, 21), (2, 20), (3, 18), (4, 19), (5, 16), (6, 18), (15, 15), (16, 32)]\n",
      "that [(14, 10)]\n",
      "the [(8, 46), (12, 4), (12, 34), (17, 4), (18, 4)]\n",
      "There [(13, 1)]\n",
      "those [(19, 59)]\n",
      "to [(8, 37), (12, 49), (13, 61), (17, 31), (18, 31)]\n",
      "ugly [(1, 26)]\n",
      "Unless [(11, 1)]\n",
      "unless [(14, 47)]\n",
      "way [(13, 57), (14, 15)]\n",
      "you [(14, 54)]\n"
     ]
    }
   ],
   "source": [
    "# Handling missing keys with setdefault\n",
    "import sys\n",
    "import re\n",
    "import os\n",
    "\n",
    "# First non-idiomatic way\n",
    "\"\"\"Build an index mapping word -> list of occurrences\"\"\"\n",
    "\n",
    "WORD_RE = re.compile('\\w+')\n",
    "index = {}\n",
    "zen_file = 'zen_of_python.txt'\n",
    "\n",
    "with open(zen_file, encoding='utf-8') as fp:\n",
    "    for line_no, line in enumerate(fp, 1):\n",
    "        for match in WORD_RE.finditer(line):\n",
    "            word = match.group() \n",
    "            column_no = match.start() + 1\n",
    "            location = (line_no, column_no)\n",
    "            # This is ugly\n",
    "            occurrences = index.get(word, [])\n",
    "            occurrences.append(location)\n",
    "            index[word] = occurrences\n",
    "\n",
    "for word in sorted(index, key=str.upper):\n",
    "    print(word, index[word])"
   ]
  },
  {
   "cell_type": "markdown",
   "metadata": {},
   "source": [
    "The lines:\n",
    "```\n",
    "occurrences = index.get(word, [])\n",
    "occurrences.append(location)\n",
    "index[word] = occurrences\n",
    "```\n",
    "\n",
    "can be substituted with:\n",
    "\n",
    "`index.setdefault(word, []).append(location)`\n",
    "\n",
    "\n",
    "which is an equivalent way of saying:\n",
    "\n",
    "```\n",
    "if key not in my_dict:\n",
    "    my_dict[key] = []\n",
    "my_dict[key].append(new_value)\n",
    "```\n",
    "\n",
    "Most elegant way of handling keys which need to be initialized\n",
    "would be through the collections defaultdict object.\n",
    "\n",
    "```\n",
    "index = defaultdict(list)\n",
    "# and then inside the loop\n",
    "my_dict[key].append(new_value)\n",
    "```\n",
    "\n",
    "`defualtdict` calls to `__getitem__` result in a fallback on `__missing__` method which in turn calls the `default_factory` function that dict was constructed with."
   ]
  },
  {
   "cell_type": "code",
   "execution_count": 4,
   "metadata": {
    "collapsed": true,
    "deletable": true,
    "editable": true
   },
   "outputs": [],
   "source": [
    "# Implement a dict which keys can be retrieved using either str or i\n",
    "class StrKeyDict0(dict):\n",
    "    \n",
    "    def __missing__(self, key):\n",
    "        if isinstance(key, str):\n",
    "            raise KeyError(key)\n",
    "        return self[str(key)]\n",
    "    \n",
    "    def get(self, key, default=None):\n",
    "        try:\n",
    "            return self[key]\n",
    "        except KeyError:\n",
    "            return default\n",
    "    \n",
    "    def __contains__(self, key):\n",
    "        return key in self.keys() or str(key) in self.keys()\n",
    "\n",
    "# This is done in a better style using collections module and sub\n",
    "# classing from UserDict\n",
    "# Otherwise we won't be able to override the builin dict __setitem__\n",
    "import collections\n",
    "\n",
    "\n",
    "class StrKeyDict(collections.UserDict):\n",
    "    \n",
    "    def __missing__(self, key):\n",
    "        if isinstance(key, str):\n",
    "            raise KeyError(key)\n",
    "        return self[str(key)] \n",
    "    \n",
    "    def __contains__(self, key):\n",
    "        \"\"\"This is simpler as we can assume all keys are str\"\"\"\n",
    "        return str(key) in self.data\n",
    "    \n",
    "    def __setitem__(self, key, item):\n",
    "        self.data[str(key)] = item"
   ]
  },
  {
   "cell_type": "markdown",
   "metadata": {
    "deletable": true,
    "editable": true
   },
   "source": [
    "There are some interesting variations of dict in standard library besides defaultdict\n",
    "\n",
    "- `collections.OrderedDict` - maintains ordering provides popitem method\n",
    "\n",
    "- `collections.ChainMap` - holds a list of mappings which can be searched as one:\n",
    "```\n",
    "import builtins\n",
    "pylookup = ChainMap(locals(), globals(), vars(builtins))\n",
    "```\n",
    "\n",
    "- `collections.Counter` - mapping that holds an integer count for each key provides many useful methods like: \n",
    "    - `most_common([n])` -> list of tuples of n-most common items and their counts \n",
    "    - `subtract(iterable)` reduces the keycount in the counter by values provided in the iterable\n",
    "    - It also implements all multiset operators (&, |, -, +)"
   ]
  },
  {
   "cell_type": "markdown",
   "metadata": {
    "deletable": true,
    "editable": true
   },
   "source": [
    "In the types module you can also find wrapper class `MappingProxyType` which given mapping returns `mappingproxy` instance that is read-only but dynamic view of original mapping."
   ]
  }
 ],
 "metadata": {
  "kernelspec": {
   "display_name": "Python 3",
   "language": "python",
   "name": "python3"
  },
  "language_info": {
   "codemirror_mode": {
    "name": "ipython",
    "version": 3
   },
   "file_extension": ".py",
   "mimetype": "text/x-python",
   "name": "python",
   "nbconvert_exporter": "python",
   "pygments_lexer": "ipython3",
   "version": "3.6.0"
  }
 },
 "nbformat": 4,
 "nbformat_minor": 0
}
