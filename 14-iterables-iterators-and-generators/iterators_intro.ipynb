{
 "cells": [
  {
   "cell_type": "markdown",
   "metadata": {},
   "source": [
    "Iteration is fundamental to data processing. It enables us to fetch the *items* lazily, that is, one at a time and on demand. This is what iterator pattern is about.\n",
    "\n",
    "Every generator is an iterator it fully implements the iterator interface. But an iterator as defined in the GoF book retrieves items from a collection, while a generator can produce items \"out of thin air\".\n",
    "\n",
    "Python 3 uses generators in many places. Even the `range()` built-in now returns a generator-like object instead of a full-blown list.\n",
    "\n",
    "Every collection in Python is *iterable* and iterators are used internally to support:\n",
    "\n",
    "- for loops\n",
    "- collection types construction and extensions\n",
    "- looping over text files line by line\n",
    "- list, dict and set comprehensions\n",
    "- tuple unpacking\n",
    "- unpacking actual parameters with * in function calls"
   ]
  }
 ],
 "metadata": {
  "kernelspec": {
   "display_name": "Python 3",
   "language": "python",
   "name": "python3"
  },
  "language_info": {
   "codemirror_mode": {
    "name": "ipython",
    "version": 3
   },
   "file_extension": ".py",
   "mimetype": "text/x-python",
   "name": "python",
   "nbconvert_exporter": "python",
   "pygments_lexer": "ipython3",
   "version": "3.6.0"
  }
 },
 "nbformat": 4,
 "nbformat_minor": 2
}
