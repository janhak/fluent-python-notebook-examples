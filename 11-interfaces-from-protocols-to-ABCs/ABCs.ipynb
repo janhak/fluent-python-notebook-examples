{
 "cells": [
  {
   "cell_type": "markdown",
   "metadata": {
    "collapsed": true,
    "deletable": true,
    "editable": true
   },
   "source": [
    "## ABCs Abstract Base Classes\n",
    "\n",
    "ABCs are meant to encapsulate very general concepts, abstractions, introduced by a framework - things like \"a sequence\" and \"an exact number\".\n",
    "\n",
    "Why ABCs:\n",
    "- By inheriting from ABCs we make a clear declaration of intent and are forced to implement all of the relevant methods of a given protocol.\n",
    "- If we check isinstance() we are mostly interested whether the object follows a certain protocol (not whether it is an object of a certain type) and as such it is better to tests against ABCs.\n",
    "- Checking against ABC with isinstance is especially useful if you must enforce an API contract: \"Dude, you have to implement this if you want to call me\".\n",
    "\n",
    "However, excessive type checking might be a sign of poor design. You should be leveraging polymorphism, designing your classes so that the interpreter dispatches calls to proper methods instead of hard coding choices based on types. For example, if you built a class that requires `list` argument, instead of checking you can immediately build a `list` from it, this way you can accept any iterable."
   ]
  },
  {
   "cell_type": "code",
   "execution_count": 1,
   "metadata": {
    "collapsed": false,
    "deletable": true,
    "editable": true
   },
   "outputs": [],
   "source": [
    "# Subclassing an ABC\n",
    "import collections\n",
    "\n",
    "class FrenchDeck2(collections.MutableSequence):\n",
    "    pass"
   ]
  },
  {
   "cell_type": "code",
   "execution_count": 2,
   "metadata": {
    "collapsed": false,
    "deletable": true,
    "editable": true
   },
   "outputs": [
    {
     "ename": "TypeError",
     "evalue": "Can't instantiate abstract class FrenchDeck2 with abstract methods __delitem__, __getitem__, __len__, __setitem__, insert",
     "output_type": "error",
     "traceback": [
      "\u001b[0;31m---------------------------------------------------------------------------\u001b[0m",
      "\u001b[0;31mTypeError\u001b[0m                                 Traceback (most recent call last)",
      "\u001b[0;32m<ipython-input-2-4a6c2428fce8>\u001b[0m in \u001b[0;36m<module>\u001b[0;34m()\u001b[0m\n\u001b[0;32m----> 1\u001b[0;31m \u001b[0mdeck\u001b[0m \u001b[0;34m=\u001b[0m \u001b[0mFrenchDeck2\u001b[0m\u001b[0;34m(\u001b[0m\u001b[0;34m)\u001b[0m\u001b[0;34m\u001b[0m\u001b[0m\n\u001b[0m",
      "\u001b[0;31mTypeError\u001b[0m: Can't instantiate abstract class FrenchDeck2 with abstract methods __delitem__, __getitem__, __len__, __setitem__, insert"
     ]
    }
   ],
   "source": [
    "deck = FrenchDeck2()"
   ]
  },
  {
   "cell_type": "markdown",
   "metadata": {
    "deletable": true,
    "editable": true
   },
   "source": [
    "This is exactly how ABCs enforce a protocol. Note that not all methods of MutableSequence are abstract. FrenchDeck inherits ready-to-use concrete methods `__contains__`, `__iter__` ... from Sequence. However, you might still with to override them with more efficient impleentations."
   ]
  },
  {
   "cell_type": "code",
   "execution_count": 3,
   "metadata": {
    "collapsed": false,
    "deletable": true,
    "editable": true
   },
   "outputs": [],
   "source": [
    "import collections\n",
    "\n",
    "Card = collections.namedtuple('Card', ['rank', 'suit'])\n",
    "\n",
    "class FrenchDeck2(collections.MutableSequence):\n",
    "    ranks = [str(n) for n in range(2, 11)] + list('JQKA')\n",
    "    suits = 'spades diamonds clubs hearts'.split()\n",
    "    \n",
    "    def __init__(self):\n",
    "        self._cards = [Card(rank, suit) for suit in self.suits \n",
    "                                        for rank in self.ranks]\n",
    "        \n",
    "    def __len__(self):\n",
    "        return len(self._cards)\n",
    "    \n",
    "    def __getitem__(self, position):\n",
    "        return self._cards[position]\n",
    "    \n",
    "    def __setitem__(self, position, value):\n",
    "        self._cards[position] = value\n",
    "        \n",
    "    def __delitem__(self, position):\n",
    "        # Subclassing ABCs forced us to implement del item...\n",
    "        del self._cards[position]\n",
    "    \n",
    "    def insert(self, position, value):\n",
    "        self._cards.insert(position, value)"
   ]
  },
  {
   "cell_type": "code",
   "execution_count": 4,
   "metadata": {
    "collapsed": false,
    "deletable": true,
    "editable": true
   },
   "outputs": [],
   "source": [
    "deck = FrenchDeck2()"
   ]
  },
  {
   "cell_type": "markdown",
   "metadata": {
    "deletable": true,
    "editable": true
   },
   "source": [
    "Python does not check for implementation of the abstract methods at import time, but only at runtime when we actually instantiate FrenchDeck2."
   ]
  },
  {
   "cell_type": "markdown",
   "metadata": {
    "deletable": true,
    "editable": true
   },
   "source": [
    "## ABCs in stdlib\n",
    "\n",
    "ABC are implemented in `_collections_abc.py` there are roughly 21 as of 3.6. However, they remain vsible in the collections module and you can use them importing `collections` instead of `collections.abc`\n",
    "\n",
    "### Iterable, Container and Sized\n",
    "Every collection should inherit from these or at least implement compatible protocols. Iterable supports iteration with `__iter__`, Container supports the `in` operator with `__contains__` and Sized supports `len()` with `__len__`.\n",
    "\n",
    "### Sequence, Mapping and Set\n",
    "Main immutable collections and each has a mutable subclass.\n",
    "\n",
    "### MappingView\n",
    "The objects returned from the mapping methods `.items()`, `.keys()` and `.values()`\n",
    "\n",
    "### Callable and Hashable\n",
    "Their main use is to check whether an object is hashable. You can check whether an object is callable by calling built-in `callable()`.\n",
    "\n",
    "### Iterator\n",
    "The all mighty subclass of Iterable!"
   ]
  },
  {
   "cell_type": "markdown",
   "metadata": {
    "deletable": true,
    "editable": true
   },
   "source": [
    "## Numbers\n",
    "\n",
    "numbers package defines the linear hierarchy of numerical ABCs:\n",
    "- `Number`\n",
    "- `Complex`\n",
    "- `Real`\n",
    "- `Rational`\n",
    "- `Integral`\n",
    "\n",
    "You check `isinstance(x, numbers.Integral)` to accept `int`, `bool` and other integer types. "
   ]
  },
  {
   "cell_type": "code",
   "execution_count": null,
   "metadata": {
    "collapsed": true,
    "deletable": true,
    "editable": true
   },
   "outputs": [],
   "source": []
  }
 ],
 "metadata": {
  "kernelspec": {
   "display_name": "Python 3",
   "language": "python",
   "name": "python3"
  },
  "language_info": {
   "codemirror_mode": {
    "name": "ipython",
    "version": 3
   },
   "file_extension": ".py",
   "mimetype": "text/x-python",
   "name": "python",
   "nbconvert_exporter": "python",
   "pygments_lexer": "ipython3",
   "version": "3.6.0"
  }
 },
 "nbformat": 4,
 "nbformat_minor": 0
}
