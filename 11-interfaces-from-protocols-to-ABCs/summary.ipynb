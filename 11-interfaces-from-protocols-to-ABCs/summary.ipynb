{
 "cells": [
  {
   "cell_type": "markdown",
   "metadata": {},
   "source": [
    "# Protocols\n",
    "\n",
    "Informal interfaces used interchangeably as \"foo protocol\", \"foo interface\" and \"foo-like object\" in docs. They have nothing to do with inheritance and each class stands alone when implementing them. They embrace duck typing.\n",
    "\n",
    "# ABCs\n",
    "\n",
    "Static interface declarations that are explicit. Classes claim to implement an interface by subclassing from an ABC or by registering with it, which doesn't require the strong and static link of inheritance relationship."
   ]
  }
 ],
 "metadata": {
  "kernelspec": {
   "display_name": "Python 3",
   "language": "python",
   "name": "python3"
  },
  "language_info": {
   "codemirror_mode": {
    "name": "ipython",
    "version": 3
   },
   "file_extension": ".py",
   "mimetype": "text/x-python",
   "name": "python",
   "nbconvert_exporter": "python",
   "pygments_lexer": "ipython3",
   "version": "3.6.0"
  }
 },
 "nbformat": 4,
 "nbformat_minor": 2
}
