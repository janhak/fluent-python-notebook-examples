{
 "cells": [
  {
   "cell_type": "code",
   "execution_count": 2,
   "metadata": {
    "collapsed": true
   },
   "outputs": [
    {
     "data": {
      "text/plain": [
       "{'eggs', 'spam'}"
      ]
     },
     "execution_count": 2,
     "metadata": {},
     "output_type": "execute_result"
    }
   ],
   "source": [
    "# A set is a collection of unique objects\n",
    "# Basic use is removing duplicates\n",
    "\n",
    "l = ['spam', 'spam', 'eggs', 'spam']\n",
    "set(l)"
   ]
  },
  {
   "cell_type": "code",
   "execution_count": null,
   "metadata": {},
   "outputs": [],
   "source": [
    "# Set elements must be hashable\n",
    "# Implements full set logic\n",
    "a, b = set(), set()\n",
    "a | b  # Set union\n",
    "a & b  # Set intersection\n",
    "a - b  # Set difference\n",
    "\n",
    "# How many needles occur in haystack\n",
    "found = len(needles & haystack)\n",
    "\n",
    "# Without set intersection it becomes\n",
    "found = 0\n",
    "for n in needles:\n",
    "    if n in haystack:\n",
    "        found += 1\n",
    "# or\n",
    "def find_needles(needles, haystack):\n",
    "    for n in needles:\n",
    "        if n in haystack:\n",
    "            yield n\n",
    "\n",
    "found = sum(1 for needle in find_needles(needles, haystack))"
   ]
  },
  {
   "cell_type": "code",
   "execution_count": null,
   "metadata": {},
   "outputs": [],
   "source": [
    "# Set literals are as expected {1, 2}\n",
    "# Empty set can only be initialized with set() {} - gives empty dict\n",
    "\n",
    "{1, 2, 3}  # is faster and more readable then\n",
    "set([1, 2, 3])\n",
    "# This is slower because python first has to look up set name\n",
    "# Fetch the constructor, build a list and finally pass it to\n",
    "# constructor\n",
    "\n",
    "# {1, 2, 3} Python runs specialized BUILD_SET bytecode\n"
   ]
  },
  {
   "cell_type": "code",
   "execution_count": 3,
   "metadata": {},
   "outputs": [
    {
     "name": "stdout",
     "output_type": "stream",
     "text": [
      "  1           0 LOAD_CONST               0 (1)\n              2 LOAD_CONST               1 (2)\n              4 LOAD_CONST               2 (3)\n              6 BUILD_SET                3\n              8 RETURN_VALUE\n"
     ]
    }
   ],
   "source": [
    "import dis\n",
    "\n",
    "dis.dis('{1, 2, 3}')"
   ]
  },
  {
   "cell_type": "code",
   "execution_count": 4,
   "metadata": {},
   "outputs": [
    {
     "name": "stdout",
     "output_type": "stream",
     "text": [
      "  1           0 LOAD_NAME                0 (set)\n              2 LOAD_CONST               0 (1)\n              4 LOAD_CONST               1 (2)\n              6 LOAD_CONST               2 (3)\n              8 BUILD_LIST               3\n             10 CALL_FUNCTION            1\n             12 RETURN_VALUE\n"
     ]
    }
   ],
   "source": [
    "dis.dis('set([1, 2, 3])')"
   ]
  },
  {
   "cell_type": "code",
   "execution_count": null,
   "metadata": {},
   "outputs": [],
   "source": [
    "# Set has an immutable sibling frozenset called via constructor"
   ]
  },
  {
   "cell_type": "code",
   "execution_count": 5,
   "metadata": {},
   "outputs": [
    {
     "data": {
      "text/plain": [
       "{'#',\n '$',\n '%',\n '+',\n '<',\n '=',\n '>',\n '¢',\n '£',\n '¤',\n '¥',\n '§',\n '©',\n '¬',\n '®',\n '°',\n '±',\n 'µ',\n '¶',\n '×',\n '÷'}"
      ]
     },
     "execution_count": 5,
     "metadata": {},
     "output_type": "execute_result"
    }
   ],
   "source": [
    "# There is also set comprehension\n",
    "\n",
    "# Build a set of Latin-1 characters which have word \"SIGN\" in their name\n",
    "\n",
    "from unicodedata import name\n",
    "{chr(i) for i in range(32, 256) if 'SIGN' in name(chr(i), '')}"
   ]
  },
  {
   "cell_type": "code",
   "execution_count": null,
   "metadata": {},
   "outputs": [],
   "source": [
    ""
   ]
  }
 ],
 "metadata": {
  "kernelspec": {
   "display_name": "Python 2",
   "language": "python",
   "name": "python2"
  },
  "language_info": {
   "codemirror_mode": {
    "name": "ipython",
    "version": 2.0
   },
   "file_extension": ".py",
   "mimetype": "text/x-python",
   "name": "python",
   "nbconvert_exporter": "python",
   "pygments_lexer": "ipython2",
   "version": "2.7.6"
  }
 },
 "nbformat": 4,
 "nbformat_minor": 0
}