{
 "cells": [
  {
   "cell_type": "code",
   "execution_count": 1,
   "metadata": {
    "collapsed": true
   },
   "outputs": [
    {
     "data": {
      "text/plain": [
       "True"
      ]
     },
     "execution_count": 1,
     "metadata": {},
     "output_type": "execute_result"
    }
   ],
   "source": [
    "# There is a number of ways to build a new dictionary\n",
    "\n",
    "a = dict(one=1, two=2, three=3)\n",
    "b = {'one': 1, 'two': 2, 'three': 3}\n",
    "c = dict(zip(['one', 'two', 'three'], [1, 2, 3]))\n",
    "d = dict([('one', 1), ('two', 2), ('three', 3)])\n",
    "e = dict({'three': 3, 'two': 2, 'one':1})\n",
    "a == b == c == d == e"
   ]
  },
  {
   "cell_type": "code",
   "execution_count": 2,
   "metadata": {},
   "outputs": [
    {
     "data": {
      "text/plain": [
       "{'Brazil': 55, 'China': 86, 'India': 91, 'Indonesia': 62}"
      ]
     },
     "execution_count": 2,
     "metadata": {},
     "output_type": "execute_result"
    }
   ],
   "source": [
    "# Similar to lists and tuples there are dict comprehensions\n",
    "DIAL_CODES = [\n",
    "    (86, 'China'),\n",
    "    (91, 'India'),\n",
    "    (62, 'Indonesia'),\n",
    "    (55, 'Brazil'),\n",
    "]\n",
    "country_code = {country: code for code, country in DIAL_CODES}\n",
    "country_code"
   ]
  },
  {
   "cell_type": "code",
   "execution_count": 24,
   "metadata": {},
   "outputs": [
    {
     "name": "stdout",
     "output_type": "stream",
     "text": [
      "a [(17, 48), (18, 53)]\nAlthough [(9, 1), (14, 1), (16, 1)]\nambiguity [(12, 16)]\nand [(13, 23)]\nare [(19, 12)]\naren [(8, 15)]\nat [(14, 38)]\nbad [(17, 50)]\nbe [(13, 14), (14, 27), (18, 50)]\nbeats [(9, 23)]\nBeautiful [(1, 1)]\nbetter [(1, 14), (2, 13), (3, 11), (4, 12), (5, 9), (6, 11), (15, 8), (16, 25)]\nbreak [(8, 40)]\ncases [(8, 9)]\ncomplex [(3, 23)]\nComplex [(4, 1)]\ncomplicated [(4, 24)]\ncounts [(7, 13)]\ndense [(6, 23)]\ndo [(13, 64), (19, 48)]\nDutch [(14, 61)]\neasy [(18, 26)]\nenough [(8, 30)]\nErrors [(10, 1)]\nexplain [(17, 34), (18, 34)]\nExplicit [(2, 1)]\nexplicitly [(11, 8)]\nface [(12, 8)]\nfirst [(14, 41)]\nFlat [(5, 1)]\ngood [(18, 55)]\ngreat [(19, 28)]\nguess [(12, 52)]\nhard [(17, 26)]\nhonking [(19, 20)]\nidea [(17, 54), (18, 60), (19, 34)]\nIf [(17, 1), (18, 1)]\nimplementation [(17, 8), (18, 8)]\nimplicit [(2, 25)]\nIn [(12, 1)]\nis [(1, 11), (2, 10), (3, 8), (4, 9), (5, 6), (6, 8), (15, 5), (16, 16), (17, 23), (18, 23)]\nit [(13, 67), (17, 43), (18, 43)]\nlet [(19, 42)]\nmay [(14, 19), (18, 46)]\nmore [(19, 51)]\nNamespaces [(19, 1)]\nnested [(5, 21)]\nnever [(10, 15), (15, 20), (16, 10)]\nnot [(14, 23)]\nNow [(15, 1)]\nnow [(16, 45)]\nobvious [(13, 49), (14, 30)]\nof [(12, 13), (19, 56)]\noften [(16, 19)]\none [(13, 17), (13, 43), (19, 16)]\nonly [(13, 38)]\npass [(10, 21)]\npracticality [(9, 10)]\npreferably [(13, 27)]\npurity [(9, 29)]\nre [(14, 58)]\nReadability [(7, 1)]\nrefuse [(12, 27)]\nright [(16, 38)]\nrules [(8, 50)]\ns [(17, 46), (19, 46)]\nshould [(10, 8), (13, 7)]\nsilenced [(11, 19)]\nsilently [(10, 26)]\nSimple [(3, 1)]\nSparse [(6, 1)]\nSpecial [(8, 1)]\nspecial [(8, 22)]\nt [(8, 20)]\ntemptation [(12, 38)]\nthan [(1, 21), (2, 20), (3, 18), (4, 19), (5, 16), (6, 18), (15, 15), (16, 32)]\nthat [(14, 10)]\nthe [(8, 46), (12, 4), (12, 34), (17, 4), (18, 4)]\nThere [(13, 1)]\nthose [(19, 59)]\nto [(8, 37), (12, 49), (13, 61), (17, 31), (18, 31)]\nugly [(1, 26)]\nUnless [(11, 1)]\nunless [(14, 47)]\nway [(13, 57), (14, 15)]\nyou [(14, 54)]\n"
     ]
    }
   ],
   "source": [
    "# Handling missing keys with setdefault\n",
    "import sys\n",
    "import re\n",
    "import os\n",
    "\n",
    "# This is a hack\n",
    "path_to_file = os.path.realpath('__file__')\n",
    "path, file = os.path.split(path_to_file)\n",
    "sys.path.append(path)\n",
    "\n",
    "# First non-idiomatic way\n",
    "\"\"\"Build an index mapping word -> list of occurrences\"\"\"\n",
    "\n",
    "WORD_RE = re.compile('\\w+')\n",
    "\n",
    "index = {}\n",
    "file = '3-dictionaries-and-sets/zen_of_python.txt'\n",
    "with open(file, encoding='utf-8') as fp:\n",
    "    for line_no, line in enumerate(fp, 1):\n",
    "        for match in WORD_RE.finditer(line):\n",
    "            word = match.group() \n",
    "            column_no = match.start() + 1\n",
    "            location = (line_no, column_no)\n",
    "            # This is ugly\n",
    "            occurrences = index.get(word, [])\n",
    "            occurrences.append(location)\n",
    "            index[word] = occurrences\n",
    "\n",
    "for word in sorted(index, key=str.upper):\n",
    "    print(word, index[word])"
   ]
  },
  {
   "cell_type": "code",
   "execution_count": null,
   "metadata": {},
   "outputs": [],
   "source": [
    "\"\"\"These lines: \n",
    "occurrences = index.get(word, [])\n",
    "occurrences.append(location)\n",
    "index[word] = occurrences\n",
    "\n",
    "can be substituted with:\n",
    "index.setdefault(word, []).append(location)\n",
    "\n",
    "which is equivalent to:\n",
    "if key not in my_dict:\n",
    "    my_dict[key] = []\n",
    "my_dict[key].append(new_value)\n",
    "\n",
    "better still with defaultdict\n",
    "index = collections.defaultdict(list)\n",
    "index[word].append(location)\n",
    "\n",
    "all of the __getitem__ calls for missing keys fall back on\n",
    "__missing__ method which it turn calls the default_factory func\n",
    "which the dict was constructed with\n",
    "\"\"\"\n"
   ]
  },
  {
   "cell_type": "code",
   "execution_count": null,
   "metadata": {},
   "outputs": [],
   "source": [
    "# Implement a dict which keys can be retrieved using either str or i\n",
    "class StrKeyDict0(dict):\n",
    "    \n",
    "    def __missing__(self, key):\n",
    "        if isinstance(key, str):\n",
    "            raise KeyError(key)\n",
    "        return self[str(key)]\n",
    "    \n",
    "    def get(self, key, default=None):\n",
    "        try:\n",
    "            return self[key]\n",
    "        except KeyError:\n",
    "            return default\n",
    "    \n",
    "    def __contains__(self, key):\n",
    "        return key in self.keys() or str(key) in self.keys()\n",
    "\n",
    "# This is done in a better style using collections module and sub\n",
    "# classing from UserDict\n",
    "import collections\n",
    "\n",
    "\n",
    "class StrKeyDict(collections.UserDict):\n",
    "    \n",
    "    def __missing__(self, key):\n",
    "        if isinstance(key, str):\n",
    "            raise KeyError(key)\n",
    "        return self[str(key)] \n",
    "    \n",
    "    def __contains__(self, key):\n",
    "        \"\"\"This is simpler as we can assume all keys are str\"\"\"\n",
    "        return str(key) in self.data\n",
    "    \n",
    "    def __setitem__(self, key, item):\n",
    "        self.data[str(key)] = item"
   ]
  },
  {
   "cell_type": "code",
   "execution_count": null,
   "metadata": {},
   "outputs": [],
   "source": [
    "\"\"\"There are some interesting variations of dict in standard\n",
    "library besides defaultdict\n",
    "\n",
    "collections.OrderedDict - maintains ordering provided popitem method\n",
    "\n",
    "collections.ChainMap - holds a list of mappings which can be searched as one\n",
    "ex:\n",
    "import builtins\n",
    "pylookup = ChainMap(locals(), globals(), vars(builtins))\n",
    "\n",
    "collections.Counter - mapping that holds an integer count for each key\n",
    "provides many useful methods like: \n",
    "most_common([n]) -> list of tuples of n-most common items and their counts \n",
    "\"\"\""
   ]
  },
  {
   "cell_type": "code",
   "execution_count": null,
   "metadata": {},
   "outputs": [],
   "source": [
    "# in the types module you can also find wrapper class\n",
    "# MappingProxyType which given mapping returns \n",
    "# mappingproxy instance that is read-only but dynamic view of\n",
    "# original mapping"
   ]
  }
 ],
 "metadata": {
  "kernelspec": {
   "display_name": "Python 2",
   "language": "python",
   "name": "python2"
  },
  "language_info": {
   "codemirror_mode": {
    "name": "ipython",
    "version": 2.0
   },
   "file_extension": ".py",
   "mimetype": "text/x-python",
   "name": "python",
   "nbconvert_exporter": "python",
   "pygments_lexer": "ipython2",
   "version": "2.7.6"
  }
 },
 "nbformat": 4,
 "nbformat_minor": 0
}