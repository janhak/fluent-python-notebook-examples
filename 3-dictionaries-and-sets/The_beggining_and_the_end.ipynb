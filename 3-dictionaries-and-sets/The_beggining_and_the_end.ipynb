{
 "cells": [
  {
   "cell_type": "code",
   "execution_count": 1,
   "metadata": {
    "collapsed": true
   },
   "outputs": [],
   "source": [
    "from __future__ import division, print_function\n",
    "import sys\n",
    "\n",
    "\n",
    "class UserProperty:\n",
    "    def __init__(self, v0, v1, v2, v3, v4):\n",
    "        self.guido = v0\n",
    "        self.sarah = v1\n",
    "        self.barry = v2\n",
    "        self.rachel = v3\n",
    "        self.tim = v4\n",
    "    \n",
    "    def __repr__(self):\n",
    "        return 'UserProperty(%r, %r, %r, %r, %r)' \\\n",
    "                % (self.guido, self.sarah, self.barry, self.rachel, self.tim)\n",
    "\n",
    "colors = UserProperty('blue', 'orange', 'green', 'yellow', 'red')\n",
    "cities = UserProperty('austin', 'dallas', 'tuscon', 'reno', 'portland')\n",
    "fruits = UserProperty('apple', 'banana', 'orange', 'pear', 'peach')"
   ]
  },
  {
   "cell_type": "code",
   "execution_count": 2,
   "metadata": {},
   "outputs": [
    {
     "name": "stdout",
     "output_type": "stream",
     "text": [
      "{'guido': 'blue', 'sarah': 'orange', 'barry': 'green', 'rachel': 'yellow', 'tim': 'red'}\n{'guido': 'austin', 'sarah': 'dallas', 'barry': 'tuscon', 'rachel': 'reno', 'tim': 'portland'}\n{'guido': 'apple', 'sarah': 'banana', 'barry': 'orange', 'rachel': 'pear', 'tim': 'peach'}\n"
     ]
    }
   ],
   "source": [
    "for user in [colors, cities, fruits]:\n",
    "    print(vars(user))"
   ]
  },
  {
   "cell_type": "code",
   "execution_count": 5,
   "metadata": {},
   "outputs": [
    {
     "name": "stdout",
     "output_type": "stream",
     "text": [
      "[112, 112, 112]\n"
     ]
    }
   ],
   "source": [
    "print(list(map(sys.getsizeof, map(vars, [colors, cities, fruits]))))"
   ]
  },
  {
   "cell_type": "code",
   "execution_count": 11,
   "metadata": {},
   "outputs": [
    {
     "data": {
      "text/plain": [
       "[112, 112, 112]"
      ]
     },
     "execution_count": 11,
     "metadata": {},
     "output_type": "execute_result"
    }
   ],
   "source": [
    "[sys.getsizeof(var) for var in (vars(obj) for obj in [colors, cities, fruits])]"
   ]
  },
  {
   "cell_type": "code",
   "execution_count": null,
   "metadata": {},
   "outputs": [],
   "source": [
    "# Maps have their place !!!"
   ]
  }
 ],
 "metadata": {
  "kernelspec": {
   "display_name": "Python 2",
   "language": "python",
   "name": "python2"
  },
  "language_info": {
   "codemirror_mode": {
    "name": "ipython",
    "version": 2.0
   },
   "file_extension": ".py",
   "mimetype": "text/x-python",
   "name": "python",
   "nbconvert_exporter": "python",
   "pygments_lexer": "ipython2",
   "version": "2.7.6"
  }
 },
 "nbformat": 4,
 "nbformat_minor": 0
}