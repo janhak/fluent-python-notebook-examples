{
 "cells": [
  {
   "cell_type": "markdown",
   "metadata": {},
   "source": [
    "Operator overloading allows user-defined objects to interoperate with infix operators such as + and | or unary operators like - and ~. More generally, function invocation (), attribute access/slicing [] are also operators in Python.\n",
    "\n",
    "## Operator overloading 101\n",
    "\n",
    "Operator overloading can be abused, resulting in programmer confusion, bugs and unexpected performance bottlenecks. But well used leads to pleasurable APIs and readable code.\n",
    "\n",
    "Limitations in Python:\n",
    "\n",
    "- We cannot overload operators for the built-in types\n",
    "- We cannot create new operators, only overload existing ones\n",
    "- A few operators can't be overloaded: `is, and, or, not` (but bitwise &, |, ~ can)"
   ]
  }
 ],
 "metadata": {
  "kernelspec": {
   "display_name": "Python 3",
   "language": "python",
   "name": "python3"
  },
  "language_info": {
   "codemirror_mode": {
    "name": "ipython",
    "version": 3
   },
   "file_extension": ".py",
   "mimetype": "text/x-python",
   "name": "python",
   "nbconvert_exporter": "python",
   "pygments_lexer": "ipython3",
   "version": "3.6.0"
  }
 },
 "nbformat": 4,
 "nbformat_minor": 2
}
