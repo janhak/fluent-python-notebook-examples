{
 "cells": [
  {
   "cell_type": "markdown",
   "metadata": {},
   "source": [
    "Augmented assignment operators should change the object in place, rather than return a new instance of it. Example augmented assignment operators are `+=` and `*=`.\n",
    "\n",
    "If the class does not implement the in-place operators, the augmented assignment operators are just syntactic sugar: `a += b` is evaluated exactly as `a = a + b`. \n",
    "\n",
    "However, if you do implement an in-place operator method such as `__iadd__` then that method is called to compute the result of `a += b`.\n",
    "\n",
    "Suffice to say that in-place special methods should bever be implemented for immutable types.\n",
    "\n",
    "`__add__` the result is produced by calling the constructor for a given class to build a new instance.\n",
    "\n",
    "`__iadd__` the result is produced by returning `self`, sfter it has been modified."
   ]
  }
 ],
 "metadata": {
  "kernelspec": {
   "display_name": "Python 3",
   "language": "python",
   "name": "python3"
  },
  "language_info": {
   "codemirror_mode": {
    "name": "ipython",
    "version": 3
   },
   "file_extension": ".py",
   "mimetype": "text/x-python",
   "name": "python",
   "nbconvert_exporter": "python",
   "pygments_lexer": "ipython3",
   "version": "3.6.0"
  }
 },
 "nbformat": 4,
 "nbformat_minor": 2
}
