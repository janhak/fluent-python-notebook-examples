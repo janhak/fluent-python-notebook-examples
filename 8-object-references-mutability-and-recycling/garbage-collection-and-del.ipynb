{
 "cells": [
  {
   "cell_type": "code",
   "execution_count": null,
   "metadata": {
    "collapsed": true
   },
   "outputs": [],
   "source": [
    "\"\"\"\n",
    "Objects are never explicitly destroyed, however when they become\n",
    "unreachable they may be garbage collected.\n",
    "\n",
    "The del statement deletes names, not objects. It may result in the\n",
    "object being garbage collected by only if the var held the last\n",
    "reference to it, or if the object becomes unreachable.\n",
    "\n",
    "In CPython the primary algorithm for garabage collection is reference\n",
    "counting. Each objects holds a count of how many references point to\n",
    "it as soon as refcount reaches zero. CPython calls the __del__\n",
    "method on the object.\n",
    "\n",
    "There also is mechanism to identify group of objects involved in\n",
    "reference cycle, that might be unreachable. Other implementations\n",
    "will use different garbage collection mechanisms.\"\"\"\n"
   ]
  },
  {
   "cell_type": "code",
   "execution_count": 2,
   "metadata": {},
   "outputs": [
    {
     "name": "stdout",
     "output_type": "stream",
     "text": [
      "Gone with the wind...\n"
     ]
    }
   ],
   "source": [
    "import weakref\n",
    "s1 = {1, 2, 3}\n",
    "s2 = s1\n",
    "\n",
    "def bye():\n",
    "    print('Gone with the wind...')\n",
    "\n",
    "# We register a callback on the object referred by s1 \n",
    "ender = weakref.finalize(s1, bye)"
   ]
  },
  {
   "cell_type": "code",
   "execution_count": 3,
   "metadata": {},
   "outputs": [
    {
     "data": {
      "text/plain": [
       "True"
      ]
     },
     "execution_count": 3,
     "metadata": {},
     "output_type": "execute_result"
    }
   ],
   "source": [
    "ender.alive"
   ]
  },
  {
   "cell_type": "code",
   "execution_count": 4,
   "metadata": {},
   "outputs": [],
   "source": [
    "del s1"
   ]
  },
  {
   "cell_type": "code",
   "execution_count": 5,
   "metadata": {},
   "outputs": [
    {
     "data": {
      "text/plain": [
       "True"
      ]
     },
     "execution_count": 5,
     "metadata": {},
     "output_type": "execute_result"
    }
   ],
   "source": [
    "ender.alive   # the del just deleted the reference not object"
   ]
  },
  {
   "cell_type": "code",
   "execution_count": 6,
   "metadata": {},
   "outputs": [
    {
     "name": "stdout",
     "output_type": "stream",
     "text": [
      "Gone with the wind...\n"
     ]
    }
   ],
   "source": [
    "s2 = 'spam'   # Boom refcount goes to 0 and callback is triggered"
   ]
  },
  {
   "cell_type": "code",
   "execution_count": null,
   "metadata": {},
   "outputs": [],
   "source": [
    "# The finalize holds a weak reference to s1 hence it was destroyed"
   ]
  },
  {
   "cell_type": "code",
   "execution_count": null,
   "metadata": {},
   "outputs": [],
   "source": [
    "\"\"\"\n",
    "Sometimes it is useful to have a reference to an object that does\n",
    "not keep it around.\n",
    "Weak references\n",
    "to an object do not increase its reference count. The object that is\n",
    "the target of a reference is called the referent. Therefore, we say that \n",
    "a weak reference does not prevent the referent from being garbage\n",
    "collected.\n",
    "\n",
    "Think of cache, you do not want for the object to be kept alive just\n",
    "because it is referenced by cache.\n",
    "\"\"\""
   ]
  },
  {
   "cell_type": "code",
   "execution_count": null,
   "metadata": {},
   "outputs": [],
   "source": [
    "\"\"\"When using weakref we should look at:\n",
    "WeakKeyDictionary, WeakValueDictionary, WeakSet and finalize\"\"\""
   ]
  },
  {
   "cell_type": "code",
   "execution_count": 8,
   "metadata": {},
   "outputs": [],
   "source": [
    "# The WeakValueDictionary implements a mutable mapping where the\n",
    "# values are weak references to objects\n",
    "\n",
    "class Cheese:\n",
    "    \n",
    "    def __init__(self, kind):\n",
    "        self.kind = kind\n",
    "    \n",
    "    def __repr__(self):\n",
    "        return f'Cheese({self.kind!r})'"
   ]
  },
  {
   "cell_type": "code",
   "execution_count": 9,
   "metadata": {},
   "outputs": [
    {
     "data": {
      "text/plain": [
       "['Brie', 'Parmesan', 'Red Leicester', 'Tilsit']"
      ]
     },
     "execution_count": 9,
     "metadata": {},
     "output_type": "execute_result"
    }
   ],
   "source": [
    "stock = weakref.WeakValueDictionary()\n",
    "catalog = [Cheese('Red Leicester'), Cheese('Tilsit'),\n",
    "           Cheese('Brie'), Cheese('Parmesan')]\n",
    "\n",
    "for cheese in catalog:\n",
    "    stock[cheese.kind] = cheese\n",
    "    \n",
    "sorted(stock.keys())"
   ]
  },
  {
   "cell_type": "code",
   "execution_count": 10,
   "metadata": {},
   "outputs": [],
   "source": [
    "del catalog"
   ]
  },
  {
   "cell_type": "code",
   "execution_count": 11,
   "metadata": {},
   "outputs": [
    {
     "data": {
      "text/plain": [
       "['Parmesan']"
      ]
     },
     "execution_count": 11,
     "metadata": {},
     "output_type": "execute_result"
    }
   ],
   "source": [
    "sorted(stock.keys())  # Interestingly Parmesan holds on! something must be referencing it"
   ]
  },
  {
   "cell_type": "code",
   "execution_count": 14,
   "metadata": {},
   "outputs": [],
   "source": [
    "del cheese"
   ]
  },
  {
   "cell_type": "code",
   "execution_count": 15,
   "metadata": {},
   "outputs": [
    {
     "data": {
      "text/plain": [
       "[]"
      ]
     },
     "execution_count": 15,
     "metadata": {},
     "output_type": "execute_result"
    }
   ],
   "source": [
    "sorted(stock.keys())"
   ]
  },
  {
   "cell_type": "code",
   "execution_count": null,
   "metadata": {},
   "outputs": [],
   "source": [
    "\"\"\"\n",
    "A temporary variable held reference to it which was used in a for\n",
    "loop. This isn't a problem with function returns, as they are destroyed\n",
    "when function returns. But here it is a global variable and will\n",
    "not go away.\n",
    "\"\"\""
   ]
  },
  {
   "cell_type": "code",
   "execution_count": null,
   "metadata": {},
   "outputs": [],
   "source": [
    "\"\"\"\n",
    "There is also a WeakKeyDictionary and WeakSet which might\n",
    "be really useful if you are designing a class which holds\n",
    "reference to all of its instances.\n",
    "\n",
    "There are some curious limitations list and dict can't be referents\n",
    "as well as tuple and int. Sometimes you can solve this problem by\n",
    "subclassing.\n",
    "\"\"\""
   ]
  },
  {
   "cell_type": "code",
   "execution_count": null,
   "metadata": {},
   "outputs": [],
   "source": [
    "\"\"\"\n",
    "CPython implementation has some optimization tricks it does with\n",
    "immutables. It interns small integers and certain strings, tuples, frozen sets. \n",
    "\"\"\""
   ]
  },
  {
   "cell_type": "code",
   "execution_count": null,
   "metadata": {},
   "outputs": [],
   "source": [
    ""
   ]
  }
 ],
 "metadata": {
  "kernelspec": {
   "display_name": "Python 2",
   "language": "python",
   "name": "python2"
  },
  "language_info": {
   "codemirror_mode": {
    "name": "ipython",
    "version": 2.0
   },
   "file_extension": ".py",
   "mimetype": "text/x-python",
   "name": "python",
   "nbconvert_exporter": "python",
   "pygments_lexer": "ipython2",
   "version": "2.7.6"
  }
 },
 "nbformat": 4,
 "nbformat_minor": 0
}